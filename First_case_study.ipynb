{
 "cells": [
  {
   "cell_type": "code",
   "execution_count": 0,
   "metadata": {
    "application/vnd.databricks.v1+cell": {
     "cellMetadata": {},
     "inputWidgets": {},
     "nuid": "ea94c930-5235-4994-9b44-1ababd086d8d",
     "showTitle": false,
     "tableResultSettingsMap": {},
     "title": ""
    }
   },
   "outputs": [],
   "source": [
    "#Case Study: Sales Data Analysis\n",
    "#Problem Statement\n",
    "#You are given a dataset of sales transactions. Your task is to:\n",
    "\n",
    "'''\n",
    "1. Load the dataset into a PySpark DataFrame.\n",
    "\n",
    "2. Perform basic transformations:\n",
    "Filter sales greater than a specified threshold.\n",
    "Group sales data by region and calculate the total revenue.\n",
    "Find the top 3 regions with the highest sales revenue.\n",
    "\n",
    "3.Display the results.'''"
   ]
  },
  {
   "cell_type": "code",
   "execution_count": 0,
   "metadata": {
    "application/vnd.databricks.v1+cell": {
     "cellMetadata": {
      "byteLimit": 2048000,
      "rowLimit": 10000
     },
     "inputWidgets": {},
     "nuid": "04ea62dc-843a-4f02-a744-113cb517a5b2",
     "showTitle": false,
     "tableResultSettingsMap": {},
     "title": ""
    }
   },
   "outputs": [
    {
     "output_type": "stream",
     "name": "stdout",
     "output_type": "stream",
     "text": [
      "+--------------+------+----------+--------+------+\n|transaction_id|region|   product|quantity| price|\n+--------------+------+----------+--------+------+\n|          T001| North|    Laptop|       2|1000.0|\n|          T002| South|Smartphone|       5| 500.0|\n|          T003|  East|    Tablet|       3| 300.0|\n|          T004| North|Smartphone|       4| 400.0|\n|          T005| South|    Laptop|       1|1200.0|\n|          T006|  West|    Tablet|       2| 350.0|\n|          T007| North|Smartphone|       6| 400.0|\n|          T008| South|    Laptop|       3|1100.0|\n|          T009|  East|Smartphone|       4| 450.0|\n|          T010|  West|    Laptop|       1|1300.0|\n+--------------+------+----------+--------+------+\n\n"
     ]
    }
   ],
   "source": [
    "from pyspark.sql import SparkSession\n",
    "from pyspark.sql.functions import col, sum, desc\n",
    "df = spark.sql(\"SELECT * FROM sales_data\")\n",
    "df.show()"
   ]
  },
  {
   "cell_type": "code",
   "execution_count": 0,
   "metadata": {
    "application/vnd.databricks.v1+cell": {
     "cellMetadata": {
      "byteLimit": 2048000,
      "rowLimit": 10000
     },
     "inputWidgets": {},
     "nuid": "eaef4531-a7b9-4e51-84f4-57d7990251a4",
     "showTitle": false,
     "tableResultSettingsMap": {},
     "title": ""
    }
   },
   "outputs": [
    {
     "output_type": "stream",
     "name": "stdout",
     "output_type": "stream",
     "text": [
      "+--------------+------+----------+--------+------+-------------+\n|transaction_id|region|   product|quantity| price|total_revenue|\n+--------------+------+----------+--------+------+-------------+\n|          T001| North|    Laptop|       2|1000.0|       2000.0|\n|          T002| South|Smartphone|       5| 500.0|       2500.0|\n|          T004| North|Smartphone|       4| 400.0|       1600.0|\n|          T005| South|    Laptop|       1|1200.0|       1200.0|\n|          T007| North|Smartphone|       6| 400.0|       2400.0|\n|          T008| South|    Laptop|       3|1100.0|       3300.0|\n|          T009|  East|Smartphone|       4| 450.0|       1800.0|\n|          T010|  West|    Laptop|       1|1300.0|       1300.0|\n+--------------+------+----------+--------+------+-------------+\n\n"
     ]
    }
   ],
   "source": [
    "sales_df = df.withColumn(\"total_revenue\", col(\"quantity\") * col(\"price\"))\n",
    "#sales_df.show()\n",
    "# threshold , 1000\n",
    "rajat = 1000\n",
    "sales_df2 = sales_df.filter(col(\"total_revenue\") > rajat)\n",
    "sales_df2.show()\n"
   ]
  },
  {
   "cell_type": "code",
   "execution_count": 0,
   "metadata": {
    "application/vnd.databricks.v1+cell": {
     "cellMetadata": {
      "byteLimit": 2048000,
      "rowLimit": 10000
     },
     "inputWidgets": {},
     "nuid": "47ad5abe-bf33-44d4-89c8-72dad2438d0f",
     "showTitle": false,
     "tableResultSettingsMap": {},
     "title": ""
    }
   },
   "outputs": [
    {
     "output_type": "stream",
     "name": "stdout",
     "output_type": "stream",
     "text": [
      "+------+--------------------+\n|region|revenue_asper_region|\n+------+--------------------+\n| South|              7000.0|\n|  East|              2700.0|\n|  West|              2000.0|\n| North|              6000.0|\n+------+--------------------+\n\n"
     ]
    }
   ],
   "source": [
    "sales_df3 = sales_df.groupBy(\"region\").agg(sum(\"total_revenue\").alias(\"revenue_asper_region\"))\n",
    "sales_df3.show()"
   ]
  },
  {
   "cell_type": "code",
   "execution_count": 0,
   "metadata": {
    "application/vnd.databricks.v1+cell": {
     "cellMetadata": {
      "byteLimit": 2048000,
      "rowLimit": 10000
     },
     "inputWidgets": {},
     "nuid": "b31852fd-a38a-48e4-bdb6-b7d9683226f4",
     "showTitle": false,
     "tableResultSettingsMap": {},
     "title": ""
    }
   },
   "outputs": [
    {
     "output_type": "stream",
     "name": "stdout",
     "output_type": "stream",
     "text": [
      "+------+--------------------+\n|region|revenue_asper_region|\n+------+--------------------+\n| South|              7000.0|\n| North|              6000.0|\n+------+--------------------+\n\n"
     ]
    }
   ],
   "source": [
    "top_3_df = sales_df3.orderBy(desc(\"revenue_asper_region\")).limit(2)\n",
    "top_3_df.show()"
   ]
  }
 ],
 "metadata": {
  "application/vnd.databricks.v1+notebook": {
   "computePreferences": null,
   "dashboards": [],
   "environmentMetadata": {
    "base_environment": "",
    "client": "1"
   },
   "language": "python",
   "notebookMetadata": {
    "pythonIndentUnit": 4
   },
   "notebookName": "First_case_study",
   "widgets": {}
  }
 },
 "nbformat": 4,
 "nbformat_minor": 0
}
